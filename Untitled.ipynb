{
 "cells": [
  {
   "cell_type": "code",
   "execution_count": 1,
   "metadata": {},
   "outputs": [],
   "source": [
    "import sqlite3\n",
    "import pandas as pd\n",
    "from sqlalchemy import create_engine\n",
    "import numpy as np\n",
    "import yfinance as yf\n",
    "from datetime import datetime\n",
    "import os"
   ]
  },
  {
   "cell_type": "code",
   "execution_count": 12,
   "metadata": {},
   "outputs": [],
   "source": [
    "def GetRendement(x):\n",
    "    #conn = sqlite3.connect('DatabaseVB.db')\n",
    "    engine = create_engine('sqlite:///DatabaseVB.db')\n",
    "    \n",
    "    df_posrecon = pd.read_sql(f''' SELECT \"Datum\", round(sum(\"Waarde EUR\"),2) as \"Eind Waarde\" \n",
    "                      FROM \"Posrecon\" where \"RekNr\" = \"{x}\" group by \"Datum\" order by \"Datum\" ''', con = engine).set_index('Datum')\n",
    "    \n",
    "    ### LEES UIT DE DATABASE DE SOM VAN DE ONTTREKKINGEN / OVERBOEKINGEN / LICHTINGEN / STORTINGEN VOOR REKNR X\n",
    "    df_onttrekking = pd.read_sql(f''' Select Datum, sum(\"Aantal\") as \"Onttrekkingen\" from Traderecon\n",
    "                       where \"RekNr\" = \"{x}\" and (\"Unnamed: 34\" = 5025 OR \"Unnamed: 34\" = 5000) group by \"Datum\" ''', con = engine).set_index('Datum')\n",
    "    \n",
    "\n",
    "    df_stortingen = pd.read_sql(f''' Select Datum, sum(\"Aantal\") as \"Stortingen\" from Traderecon\n",
    "                       where \"RekNr\" = \"{x}\"  and \"Unnamed: 34\" = 5026 group by \"Datum\" ''', con = engine).set_index('Datum')\n",
    "\n",
    "    df_lichtingen = pd.read_sql(f''' Select Datum, sum(\"Aantal\") as \"Lichtingen\" from Traderecon\n",
    "                        where \"RekNr\" = \"{x}\" and \"Type\" = \"L\" group by \"Datum\" ''', con = engine).set_index('Datum')\n",
    "    # df_lichtingen = pd.read_sql(f''' \n",
    "    #                     Select \"Datum\", sum(\"Unnamed: 31\")*1.0 as Lichtingen from traderecon\n",
    "    #                     where \"RekNr\" = {x}\n",
    "    #                     and \"Type\" = \"O\"\n",
    "    #                     and \"Unnamed: 31\" < 0\n",
    "    #                     group by \"Datum\"\n",
    "    #                     order by \"Datum\";\n",
    "    #     ''')\n",
    "    df_deponeringen = pd.read_sql(f''' Select Datum, sum(\"Aantal\") as \"Deponeringen\" from Traderecon\n",
    "                        where \"RekNr\" = \"{x}\" and \"Type\" = \"D\" group by \"Datum\" ''', con = engine).set_index('Datum')\n",
    "    # Nieuwe formule deponeringen\n",
    "    # df_deponeringen = pd.read_sql(f''' \n",
    "    #                     Select \"Datum\", sum(\"Unnamed: 31\") as Deponeringen from traderecon\n",
    "    #                     where \"RekNr\" = {x}\n",
    "    #                     and \"Type\" = \"O\"\n",
    "    #                     and \"Unnamed: 31\" > 0\n",
    "    #                     group by \"Datum\"\n",
    "    #                     order by \"Datum\";\n",
    "    #     ''')\n",
    "\n",
    "    # Concat de 4 dataframes uit de Traderecon query in 1 dataframe en merge deze met de Posrecon dataframe\n",
    "    traderecon_data = [df_onttrekking, df_stortingen, df_lichtingen, df_deponeringen]\n",
    "    df_tot_tr = pd.concat(traderecon_data)\n",
    "    df_final = df_posrecon.merge(df_tot_tr, on='Datum', how='left') # left vervangen met outer\n",
    "    \n",
    "    ### VOEG DE OVERBOEKINGEN AAN DE DATAFRAME MET DE WAARDES PORTEFEUILLE\n",
    "    traderecon_columns = ['Onttrekkingen', 'Stortingen', 'Lichtingen', 'Deponeringen']\n",
    "    df_final[traderecon_columns] = df_final[traderecon_columns].fillna(0.0)\n",
    "    \n",
    "    ### MAAK KOLOM ACTUELE RENDEMENT EN BEREKEN RENDEMENT VAN WAARDE PORTEFEUILLE EN ONTTREKKINGEN / STORTINGEN\n",
    "    # start waarde is de eind waarde van de vorige dag\n",
    "    df_final['Start Waarde'] = df_final[\"Eind Waarde\"].shift(1)\n",
    "\n",
    "    df_final['Dag Rendement'] = ((df_final['Eind Waarde'] - df_final['Start Waarde'] - df_final['Stortingen'] - df_final['Deponeringen'] + df_final['Onttrekkingen'] + df_final['Lichtingen'] ) ) / (df_final['Start Waarde'] + df_final['Stortingen'] - df_final['Onttrekkingen']).round(5)\n",
    "    df_final['Dag Rendement'] = df_final['Dag Rendement'].fillna(0)\n",
    "    df_final['EW Portfolio Cumulatief Rendement'] = (1 + df_final['Dag Rendement']).cumprod()\n",
    "\n",
    "    df_final['SW Portfolio Cumulatief Rendement'] = df_final['EW Portfolio Cumulatief Rendement'].shift(1)\n",
    "    #df_final['Eind Waarde'] =  pd.to_numeric(df_final['Eind Waarde'], downcast = 'float')\n",
    "    columns = ['Start Waarde','Stortingen','Deponeringen', 'Onttrekkingen', 'Lichtingen', 'Eind Waarde', 'Dag Rendement', 'SW Portfolio Cumulatief Rendement', 'EW Portfolio Cumulatief Rendement']\n",
    "    \n",
    "    return df_final[columns]"
   ]
  },
  {
   "cell_type": "code",
   "execution_count": 13,
   "metadata": {},
   "outputs": [],
   "source": [
    "df = GetRendement(503)"
   ]
  },
  {
   "cell_type": "code",
   "execution_count": 14,
   "metadata": {},
   "outputs": [
    {
     "data": {
      "text/plain": [
       "11"
      ]
     },
     "execution_count": 14,
     "metadata": {},
     "output_type": "execute_result"
    }
   ],
   "source": [
    "len(df)"
   ]
  },
  {
   "cell_type": "code",
   "execution_count": null,
   "metadata": {},
   "outputs": [],
   "source": []
  },
  {
   "cell_type": "code",
   "execution_count": null,
   "metadata": {},
   "outputs": [],
   "source": []
  }
 ],
 "metadata": {
  "kernelspec": {
   "display_name": "Python 3",
   "language": "python",
   "name": "python3"
  },
  "language_info": {
   "codemirror_mode": {
    "name": "ipython",
    "version": 3
   },
   "file_extension": ".py",
   "mimetype": "text/x-python",
   "name": "python",
   "nbconvert_exporter": "python",
   "pygments_lexer": "ipython3",
   "version": "3.8.5"
  }
 },
 "nbformat": 4,
 "nbformat_minor": 4
}

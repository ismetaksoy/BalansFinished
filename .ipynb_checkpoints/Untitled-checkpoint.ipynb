{
 "cells": [
  {
   "cell_type": "code",
   "execution_count": 1,
   "metadata": {},
   "outputs": [],
   "source": [
    "import csv\n",
    "import pandas as pd\n",
    "import sqlite3\n",
    "import os"
   ]
  },
  {
   "cell_type": "code",
   "execution_count": 2,
   "metadata": {},
   "outputs": [],
   "source": [
    "head = ['RekNr', 'Datum', 'Symbool', 'ISIN', 'Type optie', 'Expiratie',\n",
    "       'Strike', 'Valuta', 'Slotkoers', 'Aantal', 'Valutakoers',\n",
    "       'Contractgrootte', 'Waarde EUR', 'Waarde Orig Valuta', 'Aankoopwaarde',\n",
    "       'Type instrument', 'Binckcode', 'Titel instrument', 'Unnamed: 18']"
   ]
  },
  {
   "cell_type": "code",
   "execution_count": null,
   "metadata": {},
   "outputs": [],
   "source": [
    "origpos = pd.read_csv('C:/Users/ismet/Desktop/csv/Posrecon.csv')"
   ]
  },
  {
   "cell_type": "code",
   "execution_count": 4,
   "metadata": {
    "scrolled": true
   },
   "outputs": [
    {
     "ename": "NameError",
     "evalue": "name 'origpos' is not defined",
     "output_type": "error",
     "traceback": [
      "\u001b[0;31m---------------------------------------------------------------------------\u001b[0m",
      "\u001b[0;31mNameError\u001b[0m                                 Traceback (most recent call last)",
      "\u001b[0;32m<ipython-input-4-d7671eb028ec>\u001b[0m in \u001b[0;36m<module>\u001b[0;34m\u001b[0m\n\u001b[0;32m----> 1\u001b[0;31m \u001b[0morigpos\u001b[0m\u001b[0;34m\u001b[0m\u001b[0;34m\u001b[0m\u001b[0m\n\u001b[0m",
      "\u001b[0;31mNameError\u001b[0m: name 'origpos' is not defined"
     ]
    }
   ],
   "source": [
    "origpos"
   ]
  },
  {
   "cell_type": "code",
   "execution_count": 7,
   "metadata": {
    "collapsed": true
   },
   "outputs": [
    {
     "ename": "FileNotFoundError",
     "evalue": "[Errno 2] No such file or directory: 'C:/Users/ismet/Desktop/csv/PosRecon_V2 (2) - Copy.csv'",
     "output_type": "error",
     "traceback": [
      "\u001b[0;31m---------------------------------------------------------------------------\u001b[0m",
      "\u001b[0;31mFileNotFoundError\u001b[0m                         Traceback (most recent call last)",
      "\u001b[0;32m<ipython-input-7-408971cab5af>\u001b[0m in \u001b[0;36m<module>\u001b[0;34m\u001b[0m\n\u001b[1;32m      6\u001b[0m \u001b[0mconn\u001b[0m \u001b[0;34m=\u001b[0m \u001b[0msqlite3\u001b[0m\u001b[0;34m.\u001b[0m\u001b[0mconnect\u001b[0m\u001b[0;34m(\u001b[0m\u001b[0;34m'DatabaseVB.db'\u001b[0m\u001b[0;34m)\u001b[0m\u001b[0;34m\u001b[0m\u001b[0;34m\u001b[0m\u001b[0m\n\u001b[1;32m      7\u001b[0m \u001b[0;34m\u001b[0m\u001b[0m\n\u001b[0;32m----> 8\u001b[0;31m \u001b[0mdf\u001b[0m \u001b[0;34m=\u001b[0m \u001b[0mpd\u001b[0m\u001b[0;34m.\u001b[0m\u001b[0mread_csv\u001b[0m\u001b[0;34m(\u001b[0m\u001b[0;34m'C:/Users/ismet/Desktop/csv/PosRecon_V2 (2) - Copy.csv'\u001b[0m\u001b[0;34m,\u001b[0m  \u001b[0mnames\u001b[0m \u001b[0;34m=\u001b[0m \u001b[0mhead\u001b[0m\u001b[0;34m,\u001b[0m \u001b[0mdelimiter\u001b[0m \u001b[0;34m=\u001b[0m \u001b[0;34m';'\u001b[0m\u001b[0;34m,\u001b[0m \u001b[0mparse_dates\u001b[0m \u001b[0;34m=\u001b[0m \u001b[0;32mTrue\u001b[0m\u001b[0;34m)\u001b[0m\u001b[0;34m\u001b[0m\u001b[0;34m\u001b[0m\u001b[0m\n\u001b[0m\u001b[1;32m      9\u001b[0m \u001b[0mdf\u001b[0m\u001b[0;34m.\u001b[0m\u001b[0mto_sql\u001b[0m\u001b[0;34m(\u001b[0m\u001b[0;34m'Posrecon'\u001b[0m\u001b[0;34m,\u001b[0m \u001b[0mif_exists\u001b[0m \u001b[0;34m=\u001b[0m \u001b[0;34m\"replace\"\u001b[0m\u001b[0;34m,\u001b[0m \u001b[0mcon\u001b[0m \u001b[0;34m=\u001b[0m \u001b[0mconn\u001b[0m\u001b[0;34m)\u001b[0m\u001b[0;34m\u001b[0m\u001b[0;34m\u001b[0m\u001b[0m\n",
      "\u001b[0;32m~/.local/lib/python3.8/site-packages/pandas/io/parsers.py\u001b[0m in \u001b[0;36mread_csv\u001b[0;34m(filepath_or_buffer, sep, delimiter, header, names, index_col, usecols, squeeze, prefix, mangle_dupe_cols, dtype, engine, converters, true_values, false_values, skipinitialspace, skiprows, skipfooter, nrows, na_values, keep_default_na, na_filter, verbose, skip_blank_lines, parse_dates, infer_datetime_format, keep_date_col, date_parser, dayfirst, cache_dates, iterator, chunksize, compression, thousands, decimal, lineterminator, quotechar, quoting, doublequote, escapechar, comment, encoding, dialect, error_bad_lines, warn_bad_lines, delim_whitespace, low_memory, memory_map, float_precision)\u001b[0m\n\u001b[1;32m    684\u001b[0m     )\n\u001b[1;32m    685\u001b[0m \u001b[0;34m\u001b[0m\u001b[0m\n\u001b[0;32m--> 686\u001b[0;31m     \u001b[0;32mreturn\u001b[0m \u001b[0m_read\u001b[0m\u001b[0;34m(\u001b[0m\u001b[0mfilepath_or_buffer\u001b[0m\u001b[0;34m,\u001b[0m \u001b[0mkwds\u001b[0m\u001b[0;34m)\u001b[0m\u001b[0;34m\u001b[0m\u001b[0;34m\u001b[0m\u001b[0m\n\u001b[0m\u001b[1;32m    687\u001b[0m \u001b[0;34m\u001b[0m\u001b[0m\n\u001b[1;32m    688\u001b[0m \u001b[0;34m\u001b[0m\u001b[0m\n",
      "\u001b[0;32m~/.local/lib/python3.8/site-packages/pandas/io/parsers.py\u001b[0m in \u001b[0;36m_read\u001b[0;34m(filepath_or_buffer, kwds)\u001b[0m\n\u001b[1;32m    450\u001b[0m \u001b[0;34m\u001b[0m\u001b[0m\n\u001b[1;32m    451\u001b[0m     \u001b[0;31m# Create the parser.\u001b[0m\u001b[0;34m\u001b[0m\u001b[0;34m\u001b[0m\u001b[0;34m\u001b[0m\u001b[0m\n\u001b[0;32m--> 452\u001b[0;31m     \u001b[0mparser\u001b[0m \u001b[0;34m=\u001b[0m \u001b[0mTextFileReader\u001b[0m\u001b[0;34m(\u001b[0m\u001b[0mfp_or_buf\u001b[0m\u001b[0;34m,\u001b[0m \u001b[0;34m**\u001b[0m\u001b[0mkwds\u001b[0m\u001b[0;34m)\u001b[0m\u001b[0;34m\u001b[0m\u001b[0;34m\u001b[0m\u001b[0m\n\u001b[0m\u001b[1;32m    453\u001b[0m \u001b[0;34m\u001b[0m\u001b[0m\n\u001b[1;32m    454\u001b[0m     \u001b[0;32mif\u001b[0m \u001b[0mchunksize\u001b[0m \u001b[0;32mor\u001b[0m \u001b[0miterator\u001b[0m\u001b[0;34m:\u001b[0m\u001b[0;34m\u001b[0m\u001b[0;34m\u001b[0m\u001b[0m\n",
      "\u001b[0;32m~/.local/lib/python3.8/site-packages/pandas/io/parsers.py\u001b[0m in \u001b[0;36m__init__\u001b[0;34m(self, f, engine, **kwds)\u001b[0m\n\u001b[1;32m    934\u001b[0m             \u001b[0mself\u001b[0m\u001b[0;34m.\u001b[0m\u001b[0moptions\u001b[0m\u001b[0;34m[\u001b[0m\u001b[0;34m\"has_index_names\"\u001b[0m\u001b[0;34m]\u001b[0m \u001b[0;34m=\u001b[0m \u001b[0mkwds\u001b[0m\u001b[0;34m[\u001b[0m\u001b[0;34m\"has_index_names\"\u001b[0m\u001b[0;34m]\u001b[0m\u001b[0;34m\u001b[0m\u001b[0;34m\u001b[0m\u001b[0m\n\u001b[1;32m    935\u001b[0m \u001b[0;34m\u001b[0m\u001b[0m\n\u001b[0;32m--> 936\u001b[0;31m         \u001b[0mself\u001b[0m\u001b[0;34m.\u001b[0m\u001b[0m_make_engine\u001b[0m\u001b[0;34m(\u001b[0m\u001b[0mself\u001b[0m\u001b[0;34m.\u001b[0m\u001b[0mengine\u001b[0m\u001b[0;34m)\u001b[0m\u001b[0;34m\u001b[0m\u001b[0;34m\u001b[0m\u001b[0m\n\u001b[0m\u001b[1;32m    937\u001b[0m \u001b[0;34m\u001b[0m\u001b[0m\n\u001b[1;32m    938\u001b[0m     \u001b[0;32mdef\u001b[0m \u001b[0mclose\u001b[0m\u001b[0;34m(\u001b[0m\u001b[0mself\u001b[0m\u001b[0;34m)\u001b[0m\u001b[0;34m:\u001b[0m\u001b[0;34m\u001b[0m\u001b[0;34m\u001b[0m\u001b[0m\n",
      "\u001b[0;32m~/.local/lib/python3.8/site-packages/pandas/io/parsers.py\u001b[0m in \u001b[0;36m_make_engine\u001b[0;34m(self, engine)\u001b[0m\n\u001b[1;32m   1166\u001b[0m     \u001b[0;32mdef\u001b[0m \u001b[0m_make_engine\u001b[0m\u001b[0;34m(\u001b[0m\u001b[0mself\u001b[0m\u001b[0;34m,\u001b[0m \u001b[0mengine\u001b[0m\u001b[0;34m=\u001b[0m\u001b[0;34m\"c\"\u001b[0m\u001b[0;34m)\u001b[0m\u001b[0;34m:\u001b[0m\u001b[0;34m\u001b[0m\u001b[0;34m\u001b[0m\u001b[0m\n\u001b[1;32m   1167\u001b[0m         \u001b[0;32mif\u001b[0m \u001b[0mengine\u001b[0m \u001b[0;34m==\u001b[0m \u001b[0;34m\"c\"\u001b[0m\u001b[0;34m:\u001b[0m\u001b[0;34m\u001b[0m\u001b[0;34m\u001b[0m\u001b[0m\n\u001b[0;32m-> 1168\u001b[0;31m             \u001b[0mself\u001b[0m\u001b[0;34m.\u001b[0m\u001b[0m_engine\u001b[0m \u001b[0;34m=\u001b[0m \u001b[0mCParserWrapper\u001b[0m\u001b[0;34m(\u001b[0m\u001b[0mself\u001b[0m\u001b[0;34m.\u001b[0m\u001b[0mf\u001b[0m\u001b[0;34m,\u001b[0m \u001b[0;34m**\u001b[0m\u001b[0mself\u001b[0m\u001b[0;34m.\u001b[0m\u001b[0moptions\u001b[0m\u001b[0;34m)\u001b[0m\u001b[0;34m\u001b[0m\u001b[0;34m\u001b[0m\u001b[0m\n\u001b[0m\u001b[1;32m   1169\u001b[0m         \u001b[0;32melse\u001b[0m\u001b[0;34m:\u001b[0m\u001b[0;34m\u001b[0m\u001b[0;34m\u001b[0m\u001b[0m\n\u001b[1;32m   1170\u001b[0m             \u001b[0;32mif\u001b[0m \u001b[0mengine\u001b[0m \u001b[0;34m==\u001b[0m \u001b[0;34m\"python\"\u001b[0m\u001b[0;34m:\u001b[0m\u001b[0;34m\u001b[0m\u001b[0;34m\u001b[0m\u001b[0m\n",
      "\u001b[0;32m~/.local/lib/python3.8/site-packages/pandas/io/parsers.py\u001b[0m in \u001b[0;36m__init__\u001b[0;34m(self, src, **kwds)\u001b[0m\n\u001b[1;32m   1996\u001b[0m         \u001b[0mkwds\u001b[0m\u001b[0;34m[\u001b[0m\u001b[0;34m\"usecols\"\u001b[0m\u001b[0;34m]\u001b[0m \u001b[0;34m=\u001b[0m \u001b[0mself\u001b[0m\u001b[0;34m.\u001b[0m\u001b[0musecols\u001b[0m\u001b[0;34m\u001b[0m\u001b[0;34m\u001b[0m\u001b[0m\n\u001b[1;32m   1997\u001b[0m \u001b[0;34m\u001b[0m\u001b[0m\n\u001b[0;32m-> 1998\u001b[0;31m         \u001b[0mself\u001b[0m\u001b[0;34m.\u001b[0m\u001b[0m_reader\u001b[0m \u001b[0;34m=\u001b[0m \u001b[0mparsers\u001b[0m\u001b[0;34m.\u001b[0m\u001b[0mTextReader\u001b[0m\u001b[0;34m(\u001b[0m\u001b[0msrc\u001b[0m\u001b[0;34m,\u001b[0m \u001b[0;34m**\u001b[0m\u001b[0mkwds\u001b[0m\u001b[0;34m)\u001b[0m\u001b[0;34m\u001b[0m\u001b[0;34m\u001b[0m\u001b[0m\n\u001b[0m\u001b[1;32m   1999\u001b[0m         \u001b[0mself\u001b[0m\u001b[0;34m.\u001b[0m\u001b[0munnamed_cols\u001b[0m \u001b[0;34m=\u001b[0m \u001b[0mself\u001b[0m\u001b[0;34m.\u001b[0m\u001b[0m_reader\u001b[0m\u001b[0;34m.\u001b[0m\u001b[0munnamed_cols\u001b[0m\u001b[0;34m\u001b[0m\u001b[0;34m\u001b[0m\u001b[0m\n\u001b[1;32m   2000\u001b[0m \u001b[0;34m\u001b[0m\u001b[0m\n",
      "\u001b[0;32mpandas/_libs/parsers.pyx\u001b[0m in \u001b[0;36mpandas._libs.parsers.TextReader.__cinit__\u001b[0;34m()\u001b[0m\n",
      "\u001b[0;32mpandas/_libs/parsers.pyx\u001b[0m in \u001b[0;36mpandas._libs.parsers.TextReader._setup_parser_source\u001b[0;34m()\u001b[0m\n",
      "\u001b[0;31mFileNotFoundError\u001b[0m: [Errno 2] No such file or directory: 'C:/Users/ismet/Desktop/csv/PosRecon_V2 (2) - Copy.csv'"
     ]
    }
   ],
   "source": [
    "head = ['RekNr', 'Datum', 'Symbool', 'ISIN', 'Type optie', 'Expiratie',\n",
    "   'Strike', 'Valuta', 'Slotkoers', 'Aantal', 'Valutakoers',\n",
    "   'Contractgrootte', 'Waarde EUR', 'Waarde Orig Valuta', 'Aankoopwaarde',\n",
    "   'Type instrument', 'Binckcode', 'Titel instrument', 'Unnamed: 18']\n",
    "\n",
    "conn = sqlite3.connect('DatabaseVB.db')\n",
    "\n",
    "df = pd.read_csv('C:/Users/ismet/Desktop/csv/PosRecon_V2 (2) - Copy.csv',  names = head, delimiter = ';', parse_dates = True)\n",
    "df.to_sql('Posrecon', if_exists = \"replace\", con = conn)"
   ]
  },
  {
   "cell_type": "code",
   "execution_count": 9,
   "metadata": {
    "scrolled": true
   },
   "outputs": [],
   "source": [
    "conn = sqlite3.connect('DatabaseVB.db')\n",
    "\n",
    "df = pd.read_csv('./Input/Traderecon/Traderecon.csv', parse_dates = True)\n"
   ]
  },
  {
   "cell_type": "code",
   "execution_count": 12,
   "metadata": {},
   "outputs": [],
   "source": [
    "tradereconhead = ['RekNr', 'Unnamed: 1', 'Valuta', 'Datum', 'Tijdstip', 'Unnamed: 5',\n",
    "       'Type', 'Unnamed: 7', 'Unnamed: 8', 'Aantal', 'Per aandeel', 'Bedrag',\n",
    "       'Unnamed: 12', 'Unnamed: 13', 'Unnamed: 14', 'Unnamed: 15',\n",
    "       'Unnamed: 16', 'ISIN', 'Symbool', 'Unnamed: 19', 'Unnamed: 20',\n",
    "       'Unnamed: 21', 'Unnamed: 22', 'Omschrijving', 'Unnamed: 24',\n",
    "       'Unnamed: 25', 'Unnamed: 26', 'Unnamed: 27', 'Unnamed: 28',\n",
    "       'Unnamed: 29', 'Omschrijving overzicht', 'Unnamed: 31', 'Unnamed: 32',\n",
    "       'Unnamed: 33', 'Unnamed: 34', 'Unnamed: 35', 'Unnamed: 36']"
   ]
  },
  {
   "cell_type": "code",
   "execution_count": 17,
   "metadata": {},
   "outputs": [
    {
     "name": "stdout",
     "output_type": "stream",
     "text": [
      "    RekNr  Unnamed: 1 Valuta       Datum  Tijdstip Unnamed: 5  Type  \\\n",
      "0       5         100    EUR  2020-03-17   0:00:00          J  TOEK   \n",
      "1       5        1000    EUR  2020-03-19   8:59:44          J    SV   \n",
      "2       5         100    EUR  2020-03-19   9:54:26          J     V   \n",
      "3       5         100    EUR  2020-03-19   8:59:44          J    SV   \n",
      "4       5        1000    EUR  2020-03-19   9:57:38          J     V   \n",
      "5       5         100    EUR  2020-03-19   9:56:17          J     V   \n",
      "6       5        1000    EUR  2020-03-19   9:56:17          J     V   \n",
      "7       5        1000    EUR  2020-03-19   9:54:26          J     V   \n",
      "8       5         100    EUR  2020-03-19   9:57:38          J     V   \n",
      "9       5        1000    EUR  2020-03-25   0:00:00          J  UITK   \n",
      "10      5         100    EUR  2020-03-25   0:00:00          J  UITK   \n",
      "11      5        1000    EUR  2020-04-07   0:00:00          J   O-G   \n",
      "12      5        1000    EUR  2020-04-07   0:00:00          J   O-G   \n",
      "13      5         100    EUR  2020-02-12   0:00:00          J  TOEK   \n",
      "14      5        1000    EUR  2020-02-26   0:00:00          J     D   \n",
      "15      5         100    EUR  2020-02-26   0:00:00          J  UITK   \n",
      "16      5         100    USD  2020-03-11   0:00:00          J  TOEK   \n",
      "17      5        1000    USD  2020-03-25   0:00:00          J     L   \n",
      "18      5         100    USD  2020-03-25   0:00:00          J  UITK   \n",
      "19      5        1000    USD  2020-04-04   0:00:00          J  RTCR   \n",
      "\n",
      "   Unnamed: 7 Unnamed: 8    Aantal  ... Unnamed: 27         Unnamed: 28  \\\n",
      "0           1        EUR      3231  ...         NaN                 NaN   \n",
      "1           1        EUR  32094,15  ...   3/19/2020         Indexopties   \n",
      "2           1        EUR     -2026  ...   3/19/2020  Aandelen Nederland   \n",
      "3           1        EUR        -3  ...   3/19/2020         Indexopties   \n",
      "4           1        EUR  46310,16  ...   3/19/2020  Aandelen Nederland   \n",
      "5           1        EUR     -1224  ...   3/19/2020  Aandelen Nederland   \n",
      "6           1        EUR   51626,5  ...   3/19/2020  Aandelen Nederland   \n",
      "7           1        EUR  44923,69  ...   3/19/2020  Aandelen Nederland   \n",
      "8           1        EUR     -1194  ...   3/19/2020  Aandelen Nederland   \n",
      "9           1        EUR    357,03  ...   3/25/2020          Dividenden   \n",
      "10          1        EUR     -3231  ...   3/25/2020          Dividenden   \n",
      "11          1        EUR       375  ...  07-04-2020            Valuta's   \n",
      "12          1        EUR     78,75  ...  07-04-2020            Valuta's   \n",
      "13          1        EUR      4672  ...   2/13/2020          Dividenden   \n",
      "14          1        EUR    500,84  ...         NaN                 NaN   \n",
      "15          1        EUR     -4672  ...         NaN                 NaN   \n",
      "16    1,13078        USD      6050  ...   3/12/2020          Dividenden   \n",
      "17   1,084315        USD    819,78  ...   3/25/2020          Dividenden   \n",
      "18   1,084315        USD     -6050  ...   3/25/2020          Dividenden   \n",
      "19   1,081405        USD      0,12  ...  04-04-2020            Valuta's   \n",
      "\n",
      "   Unnamed: 29                    Omschrijving overzicht  Unnamed: 31  \\\n",
      "0          NaN                                       NaN          NaN   \n",
      "1     103242.0                     AEX P MAR 2020 520.00          0.0   \n",
      "2     158105.0            Vanguard FTSE Developed Europe          0.0   \n",
      "3     103242.0                     AEX P MAR 2020 520.00          0.0   \n",
      "4     158126.0  Vanguard FTSE Emerging Markets UCITS ETF          0.0   \n",
      "5     158127.0                Vanguard S&P 500 UCITS ETF          0.0   \n",
      "6     158127.0                Vanguard S&P 500 UCITS ETF          0.0   \n",
      "7     158105.0            Vanguard FTSE Developed Europe          0.0   \n",
      "8     158126.0  Vanguard FTSE Emerging Markets UCITS ETF          0.0   \n",
      "9          0.0         div. VanEck Vectors AEX UCITS ETF          0.0   \n",
      "10         0.0         div. VanEck Vectors AEX UCITS ETF          0.0   \n",
      "11      1234.0                                      Euro          0.0   \n",
      "12      1234.0                                      Euro          0.0   \n",
      "13         0.0        div. iShares DJ Euro Stoxx 50 (NL)          0.0   \n",
      "14         NaN                                       NaN          NaN   \n",
      "15         NaN                                       NaN          NaN   \n",
      "16         0.0  div. iShares S&P 500 UCITS ETF (NL) (IUS          0.0   \n",
      "17         0.0  div. iShares S&P 500 UCITS ETF (NL) (IUS          0.0   \n",
      "18         0.0  div. iShares S&P 500 UCITS ETF (NL) (IUS          0.0   \n",
      "19     99130.0                                 US Dollar          0.0   \n",
      "\n",
      "   Unnamed: 32  Unnamed: 33 Unnamed: 34 Unnamed: 35 Unnamed: 36  \n",
      "0          NaN          NaN         NaN         NaN         NaN  \n",
      "1         37.0          0.0      5026.0         0.0         2.0  \n",
      "2         38.0          0.0         0.0         0.0         1.0  \n",
      "3         37.0          0.0         0.0         0.0         1.0  \n",
      "4         38.0          0.0         0.0         0.0         2.0  \n",
      "5         38.0          0.0         0.0         0.0         1.0  \n",
      "6         38.0          0.0      5025.0         0.0         2.0  \n",
      "7         38.0          0.0      5000.0         0.0         2.0  \n",
      "8         38.0          0.0         0.0         0.0         1.0  \n",
      "9          0.0          0.0         0.0         0.0         2.0  \n",
      "10         0.0          0.0         0.0         0.0         1.0  \n",
      "11         0.0          0.0      5200.0         0.0         2.0  \n",
      "12         0.0          0.0      5200.0         0.0         2.0  \n",
      "13         0.0          0.0         0.0         0.0         1.0  \n",
      "14         NaN          NaN         NaN         NaN         NaN  \n",
      "15         NaN          NaN         NaN         NaN         NaN  \n",
      "16         0.0          0.0         0.0         0.0         1.0  \n",
      "17         0.0          0.0         0.0         0.0         2.0  \n",
      "18         0.0          0.0         0.0         0.0         1.0  \n",
      "19         0.0          0.0         0.0         0.0         2.0  \n",
      "\n",
      "[20 rows x 37 columns]\n"
     ]
    }
   ],
   "source": [
    "for file in os.listdir(tradedirectory):\n",
    "    df = pd.read_csv(tradedirectory+'/'+file, delimiter = ',', parse_dates = True)\n",
    "#         df.to_sql('Traderecon', if_exists = \"append\", con = conn)\n",
    "#         os.rename(tradedirectory+'/'+file , './Archive/'+file)\n",
    "    print(df)"
   ]
  },
  {
   "cell_type": "code",
   "execution_count": null,
   "metadata": {},
   "outputs": [],
   "source": []
  }
 ],
 "metadata": {
  "kernelspec": {
   "display_name": "Python 3",
   "language": "python",
   "name": "python3"
  },
  "language_info": {
   "codemirror_mode": {
    "name": "ipython",
    "version": 3
   },
   "file_extension": ".py",
   "mimetype": "text/x-python",
   "name": "python",
   "nbconvert_exporter": "python",
   "pygments_lexer": "ipython3",
   "version": "3.8.2"
  }
 },
 "nbformat": 4,
 "nbformat_minor": 4
}

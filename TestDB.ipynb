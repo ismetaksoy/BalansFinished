{
 "cells": [
  {
   "cell_type": "code",
   "execution_count": 1,
   "metadata": {},
   "outputs": [],
   "source": [
    "import sqlite3\n",
    "import pandas as pd\n",
    "from sqlalchemy import create_engine\n",
    "import numpy as np\n",
    "import yfinance as yf\n",
    "from datetime import datetime\n",
    "import os\n",
    "\n",
    "\n",
    "def LoadData():\n",
    "    # Maak connectie met de database en geef de locaties aan van de input bestanden\n",
    "    conn = sqlite3.connect('DatabaseVB.db')\n",
    "    posdirectory = './Input/Posrecon'\n",
    "    tradedirectory = './Input/Traderecon'\n",
    "    \n",
    "    # Loop over de input bestanden en laad ze in de database\n",
    "    for file in os.listdir(posdirectory):\n",
    "        df = pd.read_csv(posdirectory+'/'+file)\n",
    "        df.to_sql('Posrecon', if_exists = \"replace\", con = conn)\n",
    "    \n",
    "    for file in os.listdir(tradedirectory):\n",
    "        df = pd.read_csv(tradedirectory+'/'+file)\n",
    "        df.to_sql('Traderecon', if_exists = \"replace\", con = conn)\n",
    "\n",
    "\n",
    "# def FileUploaderPosrecon(inputdata):\n",
    "#     conn = sqlite3.connect('DatabaseVB.db')  \n",
    "#     df = pd.read_csv(inputdata)\n",
    "#     df.to_sql('Posrecon', if_exists = \"replace\", con = conn)\n",
    "\n",
    "# def FileUploaderTraderecon(inputdata):\n",
    "#     conn = sqlite3.connect('DatabaseVB.db')\n",
    "#     df = pd.read_csv(inputdata)\n",
    "#     df.to_sql('Traderecon', if_exists = \"replace\", con = conn)\n",
    "\n",
    "def GetRendement(x):\n",
    "    engine = create_engine('sqlite:///DatabaseVB.db')\n",
    "    \n",
    "    # Lees Posrecon table uit de database\n",
    "    df_posrecon = pd.read_sql(f'''SELECT \"Datum\", ROUND(sum(\"Waarde EUR\"),2) as \"Eind Waarde\" \n",
    "                      FROM \"Posrecon\" where \"RekNr\" = \"{x}\" group by \"Datum\" order by \"Datum\"''', con = engine).set_index('Datum')\n",
    "\n",
    "    ### LEES UIT DE DATABASE DE SOM VAN DE ONTTREKKINGEN / OVERBOEKINGEN / LICHTINGEN / STORTINGEN VOOR REKNR X\n",
    "    df_onttrekking = pd.read_sql(f''' Select Datum, sum(\"Aantal\") as \"Onttrekkingen\" from Traderecon\n",
    "                       where RekNr = \"{x}\" and \"Unnamed: 34\" = 5025 OR \"Unnamed: 34\" = 5000 group by \"Datum\" ''', con = engine).set_index('Datum')\n",
    "\n",
    "    df_stortingen = pd.read_sql(f''' Select Datum, sum(\"Aantal\") as \"Stortingen\" from Traderecon\n",
    "                       where RekNr = \"{x}\"  and \"Unnamed: 34\" = 5026 group by \"Datum\" ''', con = engine).set_index('Datum')\n",
    "\n",
    "    df_lichtingen = pd.read_sql(f''' Select Datum, sum(\"Aantal\") as \"Lichtingen\" from Traderecon\n",
    "                        where RekNr = \"{x}\" and \"Type\" = \"L\" group by \"Datum\" ''', con = engine).set_index('Datum')\n",
    "\n",
    "    df_deponeringen = pd.read_sql(f''' Select Datum, sum(\"Aantal\") as \"Deponeringen\" from Traderecon\n",
    "                        where RekNr = \"{x}\" and \"Type\" = \"D\" group by \"Datum\" ''', con = engine).set_index('Datum')\n",
    "    \n",
    "    # Concat de 4 dataframes uit de Traderecon query in 1 dataframe en merge deze met de Posrecon dataframe\n",
    "    traderecon_data = [df_onttrekking, df_stortingen, df_lichtingen, df_deponeringen]\n",
    "    df_tot_tr = pd.concat(traderecon_data)\n",
    "    df_final = df_posrecon.merge(df_tot_tr, on='Datum', how='left')\n",
    "    \n",
    "    ### Vervang NAN van de mutaties met 0\n",
    "    traderecon_columns = ['Onttrekkingen','Stortingen', 'Lichtingen','Deponeringen']\n",
    "    df_final[traderecon_columns] = df_final[traderecon_columns].fillna(0.0)\n",
    "    \n",
    "    ### MAAK KOLOM ACTUELE RENDEMENT EN BEREKEN RENDEMENT VAN WAARDE PORTEFEUILLE EN ONTTREKKINGEN / STORTINGEN\n",
    "    df_final['Start Waarde'] = df_final[\"Eind Waarde\"].shift(1)\n",
    "    df_final['Dag Rendement'] = ((df_final['Eind Waarde'] - df_final['Start Waarde'] - df_final['Stortingen'] - df_final['Deponeringen'] + df_final['Onttrekkingen'] + df_final['Lichtingen'] ) ) / (df_final['Start Waarde'] + df_final['Stortingen'] - df_final['Onttrekkingen']).round(5)\n",
    "    df_final['Portfolio Cumulatief Rendement'] = (1 + df_final['Dag Rendement']).cumprod()\n",
    "    #df_final['Eind Waarde'] =  pd.to_numeric(df_final['Eind Waarde'], downcast = 'float')\n",
    "    columns = ['Start Waarde','Stortingen','Deponeringen', 'Onttrekkingen', 'Lichtingen', 'Eind Waarde', 'Dag Rendement', 'Portfolio Cumulatief Rendement']\n",
    "    \n",
    "    return df_final[columns]\n",
    "\n",
    "periode = {\n",
    "    'Q1':\n",
    "    {'start':'2020-01-02',\n",
    "    'end':'2020-01-31'},\n",
    "    'Q2':\n",
    "    {'start':'2020-02-03',\n",
    "    'end':'2020-02-28'},\n",
    "    'Q3':\n",
    "    {'start':'2020-02-03',\n",
    "    'end':'2020-03-31'},\n",
    "    'Q4':\n",
    "    {'start':'2020-10-01',\n",
    "    'end':'2020-12-31'},\n",
    "    'YTD':\n",
    "    {'start':'2020-01-01',\n",
    "    'end':datetime.today().strftime('%Y-%m-%d')}\n",
    "}\n",
    "\n",
    "# Overview portefeuille Ontwikkeling\n",
    "def GetOverview(data, kwartaals): \n",
    "    startwaarde, stortingen, deponeringen, onttrekkingen, lichtingen,eindwaarde = [],[],[],[],[],[]\n",
    "    for kwartaal in kwartaals:\n",
    "        startwaarde.append(data.loc[periode[kwartaal]['start'],['Start Waarde']][0])\n",
    "        stortingen.append((data.loc[periode[kwartaal]['start']:periode[kwartaal]['end'],['Stortingen']]).sum()[0])\n",
    "        deponeringen.append((data.loc[periode[kwartaal]['start']:periode[kwartaal]['end'],['Deponeringen']]).sum()[0])\n",
    "        onttrekkingen.append((data.loc[periode[kwartaal]['start']:periode[kwartaal]['end'],['Onttrekkingen']]).sum()[0])\n",
    "        lichtingen.append((data.loc[periode[kwartaal]['start']:periode[kwartaal]['end'],['Lichtingen']]).sum()[0])\n",
    "        eindwaarde.append(data.loc[periode[kwartaal]['end'],['Eind Waarde']][0])\n",
    "    overview = list(zip(startwaarde, stortingen, deponeringen, onttrekkingen, lichtingen, eindwaarde))\n",
    "    \n",
    "    df = pd.DataFrame(overview, \n",
    "           columns=[\"Start Waarde\",\"Stortingen\",\"Deponeringen\",\"Onttrekkingen\",\"Lichtingen\",\"Eind Waarde\"], index = kwartaals)\n",
    "    df['Abs Rendement'] = df['Eind Waarde'] - df['Start Waarde'] - df['Stortingen'] - df['Deponeringen'] + df['Onttrekkingen'] + df['Lichtingen']\n",
    "    df['Rendement'] = (df['Eind Waarde'] - df['Start Waarde']) / df['Start Waarde']\n",
    "    return df\n",
    "\n",
    "# Full Benchmark data\n",
    "def getBenchmarkData(bench):\n",
    "    conn = sqlite3.connect('DatabaseVB.db')\n",
    "    engine = create_engine('sqlite:///DatabaseVB.db')\n",
    "    ticker = yf.Ticker(bench)\n",
    "\n",
    "    df_benchmark = ticker.history(period = 'max')\n",
    "    df_benchmark.reset_index(inplace = True)\n",
    "    df_benchmark.rename(columns = {'Date':'Datum', 'Close': f'{bench} Eind Waarde'}, inplace = True)\n",
    "    df_benchmark.to_sql(f'{bench}', if_exists = 'replace', con = conn)\n",
    "\n",
    "    df = pd.read_sql(f'''\n",
    "        SELECT substr(Datum, 1, 10) as \"Datum\", \"{bench} Eind Waarde\" FROM \"{bench}\"\n",
    "    ''', con = engine).set_index(\"Datum\")\n",
    "    return df\n",
    "\n",
    "#  Benchmark Ontwikkeling\n",
    "def getPerf(data, kwartaals, bench):\n",
    "    kwart, startwaarde, eindwaarde = [], [], []\n",
    "    for kwartaal in kwartaals:\n",
    "        kwart.append(kwartaal)\n",
    "        startwaarde.append(data.loc[periode[kwartaal]['start']][0])\n",
    "        eindwaarde.append(data.loc[periode[kwartaal]['end']][0])\n",
    "\n",
    "        overview = list(zip(kwart, startwaarde, eindwaarde))\n",
    "\n",
    "        df = pd.DataFrame(overview, columns=['Kwartaal','Start Waarde','Eind Waarde'],\n",
    "                         index = kwart)\n",
    "        \n",
    "        df['Benchmark Performance'] = (df['Eind Waarde'] - df['Start Waarde']) / df['Start Waarde']     \n",
    "    return df\n"
   ]
  },
  {
   "cell_type": "code",
   "execution_count": 2,
   "metadata": {},
   "outputs": [
    {
     "name": "stderr",
     "output_type": "stream",
     "text": [
      "c:\\users\\ismet\\appdata\\local\\programs\\python\\python38-32\\lib\\site-packages\\pandas\\core\\generic.py:2602: UserWarning: The spaces in these column names will not be changed. In pandas versions < 0.14, spaces were converted to underscores.\n",
      "  sql.to_sql(\n"
     ]
    }
   ],
   "source": [
    "LoadData()"
   ]
  },
  {
   "cell_type": "code",
   "execution_count": 3,
   "metadata": {},
   "outputs": [],
   "source": [
    "df1 = GetRendement(5)"
   ]
  },
  {
   "cell_type": "code",
   "execution_count": 6,
   "metadata": {},
   "outputs": [
    {
     "name": "stderr",
     "output_type": "stream",
     "text": [
      "c:\\users\\ismet\\appdata\\local\\programs\\python\\python38-32\\lib\\site-packages\\pandas\\core\\generic.py:2602: UserWarning: The spaces in these column names will not be changed. In pandas versions < 0.14, spaces were converted to underscores.\n",
      "  sql.to_sql(\n"
     ]
    }
   ],
   "source": [
    "aex = getBenchmarkData(\"^AEX\")"
   ]
  },
  {
   "cell_type": "code",
   "execution_count": 32,
   "metadata": {},
   "outputs": [],
   "source": [
    "start_date = '2020-01-06'\n",
    "end_date = '2020-02-12'"
   ]
  },
  {
   "cell_type": "code",
   "execution_count": null,
   "metadata": {},
   "outputs": [],
   "source": []
  },
  {
   "cell_type": "code",
   "execution_count": 11,
   "metadata": {},
   "outputs": [],
   "source": [
    "# Handmatig kiezen van start- en einddatum voor de portefeuille ontwikkeling\n",
    "def ZoekPortfOntwikkeling(data, start_datum, eind_datum):\n",
    "    df = data.loc[start_datum:eind_datum]\n",
    "    portf_startwaarde = df.loc[start_datum,['Start Waarde']][0]\n",
    "    portf_stortingen = df.loc[start_datum:eind_datum,['Stortingen']].sum()[0]\n",
    "    portf_deponeringen = df.loc[start_datum:eind_datum,['Deponeringen']].sum()[0]\n",
    "    portf_onttrekkingen = df.loc[start_datum:eind_datum,['Onttrekkingen']].sum()[0]\n",
    "    portf_lichtingen = df.loc[start_datum:eind_datum,['Lichtingen']].sum()[0]\n",
    "    portf_eindwaarde = df.loc[eind_datum,['Eind Waarde']][0]\n",
    "\n",
    "    overview = [portf_startwaarde, portf_stortingen, portf_deponeringen, portf_onttrekkingen, portf_lichtingen, \n",
    "               portf_eindwaarde]\n",
    "    return pd.DataFrame([overview], columns = ['Start Waarde','Stortingen','Deponeringen', 'Onttrekkingen', 'Lichtingen', 'Eind Waarde'])"
   ]
  },
  {
   "cell_type": "code",
   "execution_count": 33,
   "metadata": {
    "scrolled": true
   },
   "outputs": [],
   "source": [
    "test_d = ZoekPortfOntwikkeling(df1,start_date,end_date)"
   ]
  },
  {
   "cell_type": "code",
   "execution_count": 34,
   "metadata": {},
   "outputs": [
    {
     "name": "stderr",
     "output_type": "stream",
     "text": [
      "c:\\users\\ismet\\appdata\\local\\programs\\python\\python38-32\\lib\\site-packages\\pandas\\core\\generic.py:2602: UserWarning: The spaces in these column names will not be changed. In pandas versions < 0.14, spaces were converted to underscores.\n",
      "  sql.to_sql(\n"
     ]
    }
   ],
   "source": [
    "aex_d = getBenchmarkData('^AEX')"
   ]
  },
  {
   "cell_type": "code",
   "execution_count": 35,
   "metadata": {},
   "outputs": [],
   "source": []
  },
  {
   "cell_type": "code",
   "execution_count": 44,
   "metadata": {},
   "outputs": [],
   "source": [
    "def ZoekBenchmarkOntwikkeling(data,start_date, end_date):\n",
    "    new_benchmark_df = aex_d[start_date:end_date]\n",
    "    bench_sw = new_benchmark_df.loc[start_date][0]\n",
    "    bench_ew = new_benchmark_df.loc[end_date][0]\n",
    "    overview = [bench_sw, bench_ew]\n",
    "    df = pd.DataFrame([overview], columns =['Start Waarde', 'Eind Waarde'])\n",
    "    df['Rendement'] = bench_ew - bench_sw / bench_sw\n",
    "    return df"
   ]
  },
  {
   "cell_type": "code",
   "execution_count": 45,
   "metadata": {},
   "outputs": [
    {
     "data": {
      "text/html": [
       "<div>\n",
       "<style scoped>\n",
       "    .dataframe tbody tr th:only-of-type {\n",
       "        vertical-align: middle;\n",
       "    }\n",
       "\n",
       "    .dataframe tbody tr th {\n",
       "        vertical-align: top;\n",
       "    }\n",
       "\n",
       "    .dataframe thead th {\n",
       "        text-align: right;\n",
       "    }\n",
       "</style>\n",
       "<table border=\"1\" class=\"dataframe\">\n",
       "  <thead>\n",
       "    <tr style=\"text-align: right;\">\n",
       "      <th></th>\n",
       "      <th>Start Waarde</th>\n",
       "      <th>Eind Waarde</th>\n",
       "      <th>Rendement</th>\n",
       "    </tr>\n",
       "  </thead>\n",
       "  <tbody>\n",
       "    <tr>\n",
       "      <th>0</th>\n",
       "      <td>607.24</td>\n",
       "      <td>629.03</td>\n",
       "      <td>628.03</td>\n",
       "    </tr>\n",
       "  </tbody>\n",
       "</table>\n",
       "</div>"
      ],
      "text/plain": [
       "   Start Waarde  Eind Waarde  Rendement\n",
       "0        607.24       629.03     628.03"
      ]
     },
     "execution_count": 45,
     "metadata": {},
     "output_type": "execute_result"
    }
   ],
   "source": [
    "ZoekBenchmarkOntwikkeling(df1, start_date, end_date)"
   ]
  },
  {
   "cell_type": "code",
   "execution_count": null,
   "metadata": {},
   "outputs": [],
   "source": []
  },
  {
   "cell_type": "code",
   "execution_count": 10,
   "metadata": {},
   "outputs": [],
   "source": [
    "def LoadData():\n",
    "    # Maak connectie met de database en geef de locaties aan van de input bestanden\n",
    "    conn = sqlite3.connect('DatabaseVB.db')\n",
    "    posdirectory = './Input/Posrecon'\n",
    "    tradedirectory = './Input/Traderecon'\n",
    "    \n",
    "    # Loop over de input bestanden en laad ze in de database\n",
    "    for file in os.listdir(posdirectory):\n",
    "        df = pd.read_csv(posdirectory+'/'+file)\n",
    "        df.to_sql('Posrecon', if_exists = \"replace\", con = conn)\n",
    "    \n",
    "    for file in os.listdir(tradedirectory):\n",
    "        df = pd.read_csv(tradedirectory+'/'+file)\n",
    "        df.to_sql('Traderecon', if_exists = \"replace\", con = conn)"
   ]
  },
  {
   "cell_type": "code",
   "execution_count": 11,
   "metadata": {},
   "outputs": [
    {
     "name": "stderr",
     "output_type": "stream",
     "text": [
      "c:\\users\\ismet\\appdata\\local\\programs\\python\\python38-32\\lib\\site-packages\\pandas\\core\\generic.py:2602: UserWarning: The spaces in these column names will not be changed. In pandas versions < 0.14, spaces were converted to underscores.\n",
      "  sql.to_sql(\n"
     ]
    }
   ],
   "source": [
    "LoadData()"
   ]
  },
  {
   "cell_type": "code",
   "execution_count": 12,
   "metadata": {},
   "outputs": [
    {
     "name": "stdout",
     "output_type": "stream",
     "text": [
      "./Input/Posrecon/1.csv\n",
      "./Input/Posrecon/Posrecon.csv\n"
     ]
    }
   ],
   "source": [
    "for file in os.listdir(posdirectory):\n",
    "        print(posdirectory+'/'+file)"
   ]
  },
  {
   "cell_type": "code",
   "execution_count": null,
   "metadata": {},
   "outputs": [],
   "source": []
  }
 ],
 "metadata": {
  "kernelspec": {
   "display_name": "Python 3",
   "language": "python",
   "name": "python3"
  },
  "language_info": {
   "codemirror_mode": {
    "name": "ipython",
    "version": 3
   },
   "file_extension": ".py",
   "mimetype": "text/x-python",
   "name": "python",
   "nbconvert_exporter": "python",
   "pygments_lexer": "ipython3",
   "version": "3.8.5"
  }
 },
 "nbformat": 4,
 "nbformat_minor": 4
}
